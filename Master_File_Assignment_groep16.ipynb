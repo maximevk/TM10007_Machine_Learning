{
  "cells": [
    {
      "cell_type": "markdown",
      "metadata": {
        "id": "7SXpaKwwGe5x"
      },
      "source": [
        "# TM10007 Assignment Final Code"
      ]
    },
    {
      "cell_type": "markdown",
      "source": [
        "## Imports"
      ],
      "metadata": {
        "id": "e3HdgaGCv7JG"
      }
    },
    {
      "cell_type": "code",
      "source": [
        "# Run this to use from colab environment\n",
        "!pip install -q --upgrade git+https://github.com/karinvangarderen/tm10007_project.git"
      ],
      "metadata": {
        "id": "W804Tlldnq4p",
        "colab": {
          "base_uri": "https://localhost:8080/"
        },
        "outputId": "fdd38869-e3d7-409a-9ba6-6f32f7c94065"
      },
      "execution_count": 1,
      "outputs": [
        {
          "output_type": "stream",
          "name": "stdout",
          "text": [
            "  Building wheel for brats (setup.py) ... \u001b[?25l\u001b[?25hdone\n"
          ]
        }
      ]
    },
    {
      "cell_type": "code",
      "execution_count": 2,
      "metadata": {
        "id": "CiDn2Sk-VWqE"
      },
      "outputs": [],
      "source": [
        "# import packages\n",
        "# general\n",
        "import numpy as np\n",
        "import pandas as pd \n",
        "from pandas.core.internals.construction import dataclasses_to_dicts\n",
        "import matplotlib.pyplot as plt\n",
        "from sklearn import datasets as ds\n",
        "import seaborn as sns\n",
        "from sklearn.model_selection import train_test_split\n",
        "# Scalers\n",
        "from sklearn.preprocessing import RobustScaler, StandardScaler\n",
        "# Feature selection\n",
        "from sklearn.feature_selection import SelectKBest, f_classif\n",
        "from scipy import stats\n",
        "# PCA\n",
        "from sklearn import decomposition\n",
        "from sklearn.pipeline import Pipeline\n",
        "from sklearn.decomposition import PCA\n",
        "# Classifiers\n",
        "from sklearn.tree import DecisionTreeClassifier\n",
        "from sklearn.neighbors import KNeighborsClassifier\n",
        "from sklearn import svm\n",
        "from sklearn import model_selection\n",
        "from sklearn.ensemble import RandomForestClassifier\n",
        "from sklearn.svm import SVC\n",
        "# lasso \n",
        "from sklearn import linear_model\n",
        "from sklearn.linear_model import Lasso\n",
        "from sklearn.feature_selection import SelectFromModel\n",
        "from sklearn.linear_model import LinearRegression\n",
        "from sklearn.discriminant_analysis import LinearDiscriminantAnalysis as LDA\n",
        "from sklearn.metrics import roc_curve, auc\n",
        "# Metrics and Validation\n",
        "from sklearn import metrics\n",
        "from sklearn.metrics import classification_report, confusion_matrix, accuracy_score\n",
        "from sklearn.metrics import mean_absolute_error\n",
        "from sklearn.metrics import r2_score, plot_roc_curve\n",
        "from sklearn.model_selection import RandomizedSearchCV, GridSearchCV\n",
        "from sklearn.model_selection import RepeatedStratifiedKFold\n",
        "from sklearn.metrics import roc_auc_score\n",
        "from sklearn.metrics import recall_score\n",
        "from sklearn.model_selection import cross_val_score\n"
      ]
    },
    {
      "cell_type": "markdown",
      "metadata": {
        "id": "l4eq1vxuSyc1"
      },
      "source": [
        "## Loading the data\n",
        "\n",
        "Below are functions to load the dataset of your choice. After that, it is all up to you to create and evaluate a classification method. Beware, there may be missing values in these datasets. Good luck!"
      ]
    },
    {
      "cell_type": "code",
      "execution_count": 3,
      "metadata": {
        "colab": {
          "base_uri": "https://localhost:8080/"
        },
        "id": "z_-ErqquiIKB",
        "outputId": "3ea6eb8c-f093-4095-d796-614f0b595fc5"
      },
      "outputs": [
        {
          "output_type": "stream",
          "name": "stdout",
          "text": [
            "The number of samples: 113\n",
            "The number of features: 160\n"
          ]
        },
        {
          "output_type": "execute_result",
          "data": {
            "text/plain": [
              "pandas.core.frame.DataFrame"
            ]
          },
          "metadata": {},
          "execution_count": 3
        }
      ],
      "source": [
        "from hn.load_data import load_data\n",
        "\n",
        "data = load_data()\n",
        "print(f'The number of samples: {len(data.index)}')\n",
        "print(f'The number of features: {len(data.columns)}')\n",
        "type(data)\n"
      ]
    },
    {
      "cell_type": "markdown",
      "source": [
        "## Split Data - Train and test set"
      ],
      "metadata": {
        "id": "iLmQXpTOq33e"
      }
    },
    {
      "cell_type": "code",
      "source": [
        "# Reassign label to 0 and 1\n",
        "data_bin = data.replace(to_replace=['T12', 'T34'], value=[0, 1])\n",
        "# Make an object with the label for each sample\n",
        "y_label = data_bin['label']\n",
        "# Make an object with all other data\n",
        "x_data = data_bin.drop(columns='label')\n",
        "# Split the data with regards to samples, not features\n",
        "x_train, x_test, y_train, y_test = model_selection.train_test_split(x_data, y_label, test_size=0.2, train_size=0.8, random_state=42, stratify=y_label)"
      ],
      "metadata": {
        "id": "aFk0xUgyq4Rg"
      },
      "execution_count": 4,
      "outputs": []
    },
    {
      "cell_type": "markdown",
      "source": [
        "# Pre-processing and orientation"
      ],
      "metadata": {
        "id": "GUBzXU9IiRI9"
      }
    },
    {
      "cell_type": "markdown",
      "source": [
        "## Missing Data"
      ],
      "metadata": {
        "id": "K4acP46RgWIy"
      }
    },
    {
      "cell_type": "code",
      "source": [
        "# Concatenate x_train and y_train\n",
        "train = pd.concat([x_train, y_train], axis=1)\n",
        "\n",
        "# Print features with >45% zeroes\n",
        "# Label is also printed, since the values were made binary, \n",
        "# but label will obviously not be tested\n",
        "for column_name in train.columns:\n",
        "  column = train[column_name]\n",
        "  count = (column == 0).sum()\n",
        "  perc = (count/len(train))*100\n",
        "  if perc >= 45:\n",
        "      print(column_name)"
      ],
      "metadata": {
        "colab": {
          "base_uri": "https://localhost:8080/"
        },
        "id": "Jtwvhjl5kSdQ",
        "outputId": "7bb54270-afd3-4eb1-a6b4-19f24e58cdbf"
      },
      "execution_count": 5,
      "outputs": [
        {
          "output_type": "stream",
          "name": "stdout",
          "text": [
            "tf_GLRLM_GrayLevelVariance\n",
            "tf_GLSZM_GrayLevelVariance\n",
            "tf_NGTDM_Busyness\n",
            "tf_NGTDM_Complexity\n",
            "tf_NGTDM_Contrast\n",
            "tf_NGTDM_Strength\n",
            "label\n"
          ]
        }
      ]
    },
    {
      "cell_type": "code",
      "source": [
        "# Testing the features with >45% zeroes: significant information or not?\n",
        "\n",
        "# extract columns by label\n",
        "df_T12 = train.loc[train['label'] == 0]\n",
        "df_T34 = train.loc[train['label'] == 1]\n",
        "\n",
        "# T-test for feature tf_GLRLM_GrayLevelVariance\n",
        "glrlm_glv_T12 = df_T12.pop('tf_GLRLM_GrayLevelVariance')\n",
        "glrlm_glv_T34 = df_T34.pop('tf_GLRLM_GrayLevelVariance')\n",
        "print(f'p-value tf_GLRLM_GrayLevelVariance = {stats.ttest_ind(glrlm_glv_T12, glrlm_glv_T34, axis = 0).pvalue}')\n",
        "\n",
        "# T-test for feature tf_GLSZM_GrayLevelVariance\n",
        "glszm_glv_T12 = df_T12.pop('tf_GLSZM_GrayLevelVariance')\n",
        "glszm_glv_T34 = df_T34.pop('tf_GLSZM_GrayLevelVariance')\n",
        "print(f'p-value tf_GLSZM_GrayLevelVariance = {stats.ttest_ind(glszm_glv_T12, glszm_glv_T34, axis = 0).pvalue}')\n",
        "\n",
        "# T-test for feature tf_NGTDM_Busyness\n",
        "busyness_T12 = df_T12.pop('tf_NGTDM_Busyness')\n",
        "busyness_T34 = df_T34.pop('tf_NGTDM_Busyness')\n",
        "print(f'p-value tf_NGTDM_Busyness = {stats.ttest_ind(busyness_T12, busyness_T34, axis = 0).pvalue}')\n",
        "\n",
        "# T-test for feature tf_NGTDM_Complexity\n",
        "complex_T12 = df_T12.pop('tf_NGTDM_Complexity')\n",
        "complex_T34 = df_T34.pop('tf_NGTDM_Complexity')\n",
        "print(f'p-value tf_NGTDM_Complexity = {stats.ttest_ind(complex_T12, complex_T34, axis = 0).pvalue}')\n",
        "\n",
        "# T-test for feature tf_NGTDM_Contrast\n",
        "contrast_T12 = df_T12.pop('tf_NGTDM_Contrast')\n",
        "contrast_T34 = df_T34.pop('tf_NGTDM_Contrast')\n",
        "print(f'p-value tf_NGTDM_Contrast = {stats.ttest_ind(contrast_T12, contrast_T34, axis = 0).pvalue}')\n",
        "\n",
        "# T-test for feature tf_NGTDM_Strength\n",
        "strength_T12 = df_T12.pop('tf_NGTDM_Strength')\n",
        "strength_T34 = df_T34.pop('tf_NGTDM_Strength')\n",
        "print(f'p-value tf_NGTDM_Strength = {stats.ttest_ind(strength_T12, strength_T34, axis = 0).pvalue}')\n",
        "\n"
      ],
      "metadata": {
        "id": "V0XbizhhgbnB",
        "colab": {
          "base_uri": "https://localhost:8080/"
        },
        "outputId": "8565768e-808b-499e-f4c3-1d49ceb54001"
      },
      "execution_count": 6,
      "outputs": [
        {
          "output_type": "stream",
          "name": "stdout",
          "text": [
            "p-value tf_GLRLM_GrayLevelVariance = 0.2894199133193955\n",
            "p-value tf_GLSZM_GrayLevelVariance = 0.04859571985261727\n",
            "p-value tf_NGTDM_Busyness = 0.02580191533015353\n",
            "p-value tf_NGTDM_Complexity = 0.9198598273645741\n",
            "p-value tf_NGTDM_Contrast = 0.7802936556901033\n",
            "p-value tf_NGTDM_Strength = 0.7619197127205034\n"
          ]
        }
      ]
    },
    {
      "cell_type": "markdown",
      "source": [
        "## Visualisation with PCA"
      ],
      "metadata": {
        "id": "qamladmA7kaY"
      }
    },
    {
      "cell_type": "code",
      "source": [
        "# Get an indication of the complexity of the problem: linearly separable or not?\n",
        "\n",
        "# PCA analysis\n",
        "pca_vis = PCA(n_components=2)\n",
        "pipe = Pipeline([('scaler', StandardScaler()), ('pca', pca_vis)])\n",
        "pipe.fit(x_train)\n",
        "x_pca_vis = pipe.transform(x_train)\n",
        "\n",
        "# Visualise\n",
        "sns.scatterplot(x=x_pca_vis[:, 0], y=x_pca_vis[:, 1], hue=y_train)"
      ],
      "metadata": {
        "id": "GYycGJLm7nCo",
        "colab": {
          "base_uri": "https://localhost:8080/",
          "height": 283
        },
        "outputId": "ffd97baa-ec24-437c-a368-124b1aaaa6cc"
      },
      "execution_count": 7,
      "outputs": [
        {
          "output_type": "execute_result",
          "data": {
            "text/plain": [
              "<matplotlib.axes._subplots.AxesSubplot at 0x7f18f8a3e710>"
            ]
          },
          "metadata": {},
          "execution_count": 7
        },
        {
          "output_type": "display_data",
          "data": {
            "text/plain": [
              "<Figure size 432x288 with 1 Axes>"
            ],
            "image/png": "[encoded data removed]"
          },
          "metadata": {
            "needs_background": "light"
          }
        }
      ]
    },
    {
      "cell_type": "markdown",
      "source": [
        "## Outliers\n",
        "\n",
        "The presence of outliers determines the method of feature scaling that is used later on."
      ],
      "metadata": {
        "id": "3cLs22q6DRHe"
      }
    },
    {
      "cell_type": "code",
      "source": [
        "# Determine the Z-Score\n",
        "# This part gives a Runtime warning, but the z-scores are only used to determine\n",
        "# whether there are outliers, so we ignore this warning for now.\n",
        "\n",
        "for column in x_train:\n",
        "    z_score = np.abs(stats.zscore(x_train[column]))\n",
        "\n",
        "z_thresh = 3\n",
        "print(np.where(z_score > z_thresh))"
      ],
      "metadata": {
        "id": "0EvfFApWDTQL",
        "colab": {
          "base_uri": "https://localhost:8080/"
        },
        "outputId": "8516a3a3-63bd-4258-d04a-90baf83fa746"
      },
      "execution_count": 8,
      "outputs": [
        {
          "output_type": "stream",
          "name": "stdout",
          "text": [
            "(array([ 2,  6, 11, 20, 71]),)\n"
          ]
        },
        {
          "output_type": "stream",
          "name": "stderr",
          "text": [
            "/usr/local/lib/python3.7/dist-packages/scipy/stats/stats.py:2419: RuntimeWarning: invalid value encountered in true_divide\n",
            "  return (a - mns) / sstd\n"
          ]
        }
      ]
    },
    {
      "cell_type": "markdown",
      "source": [
        "## Feature scaling"
      ],
      "metadata": {
        "id": "xMzjuXdEDJrd"
      }
    },
    {
      "cell_type": "code",
      "source": [
        "# Outliers detected through Z-test, so use of Robust Scaler is indicated\n",
        "robust_scaler = RobustScaler()\n",
        "robust_scaler.fit(x_train)\n",
        "x_scaled = robust_scaler.transform(x_train)\n",
        "\n",
        "fig, ax =plt.subplots(1,2)\n",
        "sns.distplot(x_train, ax=ax[0]).set(title='No scaling')\n",
        "sns.distplot(x_scaled[:,1], ax=ax[1]).set(title='Robust scaling')\n",
        "fig.show()"
      ],
      "metadata": {
        "id": "1c1elVKQDMJF",
        "colab": {
          "base_uri": "https://localhost:8080/",
          "height": 386
        },
        "outputId": "fa93544a-be6b-4a3b-a639-810493c2f7ae"
      },
      "execution_count": 9,
      "outputs": [
        {
          "output_type": "stream",
          "name": "stderr",
          "text": [
            "/usr/local/lib/python3.7/dist-packages/seaborn/distributions.py:2619: FutureWarning: `distplot` is a deprecated function and will be removed in a future version. Please adapt your code to use either `displot` (a figure-level function with similar flexibility) or `histplot` (an axes-level function for histograms).\n",
            "  warnings.warn(msg, FutureWarning)\n",
            "/usr/local/lib/python3.7/dist-packages/seaborn/distributions.py:2619: FutureWarning: `distplot` is a deprecated function and will be removed in a future version. Please adapt your code to use either `displot` (a figure-level function with similar flexibility) or `histplot` (an axes-level function for histograms).\n",
            "  warnings.warn(msg, FutureWarning)\n"
          ]
        },
        {
          "output_type": "display_data",
          "data": {
            "text/plain": [
              "<Figure size 432x288 with 2 Axes>"
            ],
            "image/png": "[encoded data removed]"
          },
          "metadata": {
            "needs_background": "light"
          }
        }
      ]
    },
    {
      "cell_type": "markdown",
      "source": [
        "# Feature selection"
      ],
      "metadata": {
        "id": "Filzy0J1Ol4S"
      }
    },
    {
      "cell_type": "code",
      "source": [
        "# Heatmap of the correlations between all features\n",
        "corr = x_train.corr()\n",
        "sns.heatmap(corr)"
      ],
      "metadata": {
        "id": "5_6z5ckmOu2V",
        "outputId": "497d9fc0-4f9c-4254-8e0c-23dbdfe56266",
        "colab": {
          "base_uri": "https://localhost:8080/",
          "height": 512
        }
      },
      "execution_count": 10,
      "outputs": [
        {
          "output_type": "execute_result",
          "data": {
            "text/plain": [
              "<matplotlib.axes._subplots.AxesSubplot at 0x7f18f4b37990>"
            ]
          },
          "metadata": {},
          "execution_count": 10
        },
        {
          "output_type": "display_data",
          "data": {
            "text/plain": [
              "<Figure size 432x288 with 2 Axes>"
            ],
            "image/png": "[encoded data removed]"
          },
          "metadata": {
            "needs_background": "light"
          }
        }
      ]
    },
    {
      "cell_type": "code",
      "source": [
        "# Univariate t-testing\n",
        "\n",
        "df_T12 = x_train.loc[data['label'] == \"T12\"]\n",
        "df_T34 = x_train.loc[data['label'] == \"T34\"]\n",
        "\n",
        "_, p_values = stats.ttest_ind(df_T12, df_T34)\n",
        "features_sig = []\n",
        "for subj, value in enumerate(p_values):\n",
        "  if value < 0.05:\n",
        "    features_sig.append(list(x_train.columns)[subj])\n",
        "\n",
        "print(f'{len(features_sig)} of {len(x_train.columns)} features were selected')\n",
        "\n",
        "x_train_t = x_train[features_sig]"
      ],
      "metadata": {
        "id": "Jc0XKSuPeqZQ",
        "colab": {
          "base_uri": "https://localhost:8080/"
        },
        "outputId": "8013bf3b-22f4-4a01-85f7-a2cb3815ea73"
      },
      "execution_count": 11,
      "outputs": [
        {
          "output_type": "stream",
          "name": "stdout",
          "text": [
            "77 of 159 features were selected\n"
          ]
        }
      ]
    },
    {
      "cell_type": "code",
      "source": [
        "# Univariate ANOVA F-testing\n",
        "# This step produces a Runtime warning, since it calculated a/some \n",
        "# within variance(s) as zero, which would mean a divide by zero. Since it does\n",
        "# not produce an error, we ignore this warning for now.\n",
        "# Configure to select the features with the top half f-scores\n",
        "k_median = len(x_train.columns)//2\n",
        "x_scaled_df = pd.DataFrame(x_scaled)\n",
        "f_test = SelectKBest(score_func=f_classif, k=k_median)\n",
        "f_test.fit(x_scaled_df, y_train)\n",
        "\n",
        "# Apply ANOVA F-test to the train set\n",
        "x_ftest = f_test.transform(x_scaled_df)\n",
        "\n",
        "rows, columns = x_ftest.shape\n",
        "print(f'{columns} of {len(x_train.columns)} features were selected')"
      ],
      "metadata": {
        "id": "GC7YzU195WE4",
        "colab": {
          "base_uri": "https://localhost:8080/"
        },
        "outputId": "3f1f35b8-c19c-4e7b-cb87-60aa95f853a2"
      },
      "execution_count": 12,
      "outputs": [
        {
          "output_type": "stream",
          "name": "stdout",
          "text": [
            "79 of 159 features were selected\n"
          ]
        },
        {
          "output_type": "stream",
          "name": "stderr",
          "text": [
            "/usr/local/lib/python3.7/dist-packages/sklearn/feature_selection/_univariate_selection.py:112: UserWarning: Features [142 145 146 147] are constant.\n",
            "  warnings.warn(\"Features %s are constant.\" % constant_features_idx, UserWarning)\n",
            "/usr/local/lib/python3.7/dist-packages/sklearn/feature_selection/_univariate_selection.py:113: RuntimeWarning: invalid value encountered in true_divide\n",
            "  f = msb / msw\n"
          ]
        }
      ]
    },
    {
      "cell_type": "code",
      "source": [
        "# LASSO as feature selection\n",
        "\n",
        "# Select all features with a weight above the median.\n",
        "selector = SelectFromModel(estimator=Lasso(alpha=10**(-10), random_state=42), threshold='median')\n",
        "# Fit and apply the selector to the train set\n",
        "selector.fit(x_scaled, y_train)\n",
        "n_original = x_scaled.shape[1]\n",
        "x_scaled_lasso = selector.transform(x_scaled)\n",
        "\n",
        "n_selected = x_scaled_lasso.shape[1]\n",
        "\n",
        "print(f\"Selected {n_selected} from {n_original} features.\")"
      ],
      "metadata": {
        "id": "rAwpMXydkwFf",
        "colab": {
          "base_uri": "https://localhost:8080/"
        },
        "outputId": "f7ce73dd-152d-424e-9ce0-51713f5548ef"
      },
      "execution_count": 13,
      "outputs": [
        {
          "output_type": "stream",
          "name": "stdout",
          "text": [
            "Selected 80 from 159 features.\n"
          ]
        }
      ]
    },
    {
      "cell_type": "markdown",
      "source": [
        "# Feature extraction\n"
      ],
      "metadata": {
        "id": "8fAro8GWTXCz"
      }
    },
    {
      "cell_type": "code",
      "source": [
        "# Fit a PCA on the scaled training data\n",
        "pca = PCA().fit(x_scaled)"
      ],
      "metadata": {
        "id": "pMiwuL3098LF"
      },
      "execution_count": 14,
      "outputs": []
    },
    {
      "cell_type": "code",
      "source": [
        "# Determine the optimal number of principal components:\n",
        "# Where the cumulative variance crosses the 95% threshold\n",
        "plt.rcParams[\"figure.figsize\"] = (12,6)\n",
        "\n",
        "fig, ax = plt.subplots()\n",
        "xi = np.arange(1, 91, step=1)\n",
        "y = np.cumsum(pca.explained_variance_ratio_)\n",
        "\n",
        "plt.ylim(0.0,1.1)\n",
        "plt.plot(xi, y, marker='o', linestyle='--', color='b')\n",
        "\n",
        "plt.xlabel('Number of Components')\n",
        "plt.xticks(np.arange(0, 91, step=1))\n",
        "plt.ylabel('Cumulative variance (%)')\n",
        "plt.title('The number of components needed to explain variance')\n",
        "\n",
        "plt.axhline(y=0.95, color='r', linestyle='-')\n",
        "plt.text(0.5, 0.85, '95% cut-off threshold', color = 'red', fontsize=16)\n",
        "\n",
        "ax.grid(axis='x')\n",
        "plt.show()\n",
        "\n",
        "print('The optimal number of components is 6, as shown in the plot.')"
      ],
      "metadata": {
        "id": "8gTdTEnvTc0i",
        "colab": {
          "base_uri": "https://localhost:8080/",
          "height": 422
        },
        "outputId": "1a94af9d-95ad-4769-ab1c-95352c483350"
      },
      "execution_count": 15,
      "outputs": [
        {
          "output_type": "display_data",
          "data": {
            "text/plain": [
              "<Figure size 864x432 with 1 Axes>"
            ],
            "image/png": "[encoded data removed]"
          },
          "metadata": {
            "needs_background": "light"
          }
        },
        {
          "output_type": "stream",
          "name": "stdout",
          "text": [
            "The optimal number of components is 6, as shown in the plot.\n"
          ]
        }
      ]
    },
    {
      "cell_type": "code",
      "source": [
        "# PCA analysis\n",
        "pca_extr = PCA(n_components=6)\n",
        "pca_extr.fit(x_scaled)\n",
        "x_pca_extr = pca_extr.transform(x_scaled)"
      ],
      "metadata": {
        "id": "5SaAYa5PI8SS"
      },
      "execution_count": 16,
      "outputs": []
    },
    {
      "cell_type": "markdown",
      "source": [
        "## Complexity"
      ],
      "metadata": {
        "id": "t_6C3bNib7XF"
      }
    },
    {
      "cell_type": "code",
      "source": [
        "# Construct classifiers\n",
        "n_estimators = (1, 5, 200)\n",
        "clsfs = [RandomForestClassifier(n_estimators=n_estimators[0], random_state=42),\n",
        "         RandomForestClassifier(n_estimators=n_estimators[1], random_state=42),\n",
        "         RandomForestClassifier(n_estimators=n_estimators[2], random_state=42)]\n",
        "\n",
        "# Create datasets to loop over\n",
        "Xs = x_scaled\n",
        "Ys = y_train\n",
        "\n",
        "# Classifiers applied to the dataset:\n",
        "num = 0\n",
        "\n",
        "for clf in clsfs:\n",
        "  # Split data in training and testing\n",
        "  X_des, X_val, y_des, y_val = train_test_split(Xs, Ys, test_size=0.25, train_size=0.75, random_state=42)\n",
        "  \n",
        "  clf.fit(X_des, y_des)\n",
        "  y_pred = clf.predict(X_val)\n",
        "  t = (\"For %d trees, misclassified: %d / %d\" % (n_estimators[num], (y_val != y_pred).sum(), y_val.shape[0]))\n",
        "  print(t)\n",
        "  num += 1"
      ],
      "metadata": {
        "id": "ThufSBL2b9tD",
        "colab": {
          "base_uri": "https://localhost:8080/"
        },
        "outputId": "41de7a08-0c10-4483-cc88-bf7eb9b0b540"
      },
      "execution_count": 17,
      "outputs": [
        {
          "output_type": "stream",
          "name": "stdout",
          "text": [
            "For 1 trees, misclassified: 7 / 23\n",
            "For 5 trees, misclassified: 5 / 23\n",
            "For 200 trees, misclassified: 6 / 23\n"
          ]
        }
      ]
    },
    {
      "cell_type": "markdown",
      "source": [
        "# Classifiers and tuning"
      ],
      "metadata": {
        "id": "Nc-oe1I1jFmc"
      }
    },
    {
      "cell_type": "code",
      "source": [
        ""
      ],
      "metadata": {
        "id": "7mdjWNJFN-fq"
      },
      "execution_count": 17,
      "outputs": []
    },
    {
      "cell_type": "markdown",
      "source": [
        "##Lasso"
      ],
      "metadata": {
        "id": "nocZjN_vgxcq"
      }
    },
    {
      "cell_type": "markdown",
      "source": [
        "###Model 1 - Lasso + SCV polynomial"
      ],
      "metadata": {
        "id": "NWm1OtDMhNyu"
      }
    },
    {
      "cell_type": "code",
      "source": [
        "# Hyperparameters \n",
        "# defining parameter range\n",
        "param_grid_lasso_poly = {'C': [0.1, 1, 10, 100, 1000],\n",
        "              'gamma': [1, 0.1, 0.01, 0.001, 0.0001],\n",
        "              'degree': [1, 2, 3, 4, 5],\n",
        "              'coef0':[0.01, 0.5, 1],\n",
        "              'kernel': ['poly']}\n",
        " \n",
        "grid_lasso_poly =  RandomizedSearchCV(SVC(), param_grid_lasso_poly, refit = True, verbose = 3, random_state=42)\n",
        " \n",
        "# fitting the model for randomized search\n",
        "grid_lasso_poly.fit(x_scaled_lasso, y_train)\n",
        "\n",
        "# print how our model looks after hyper-parameter tuning\n",
        "print(grid_lasso_poly.best_estimator_)\n",
        "\n"
      ],
      "metadata": {
        "id": "f04Irc9Ng05b",
        "colab": {
          "base_uri": "https://localhost:8080/"
        },
        "outputId": "922522be-c124-48fe-d422-df3eb51317bf"
      },
      "execution_count": 18,
      "outputs": [
        {
          "output_type": "stream",
          "name": "stdout",
          "text": [
            "Fitting 5 folds for each of 10 candidates, totalling 50 fits\n",
            "[CV 1/5] END C=10, coef0=0.01, degree=4, gamma=0.01, kernel=poly;, score=0.722 total time=   0.0s\n",
            "[CV 2/5] END C=10, coef0=0.01, degree=4, gamma=0.01, kernel=poly;, score=0.556 total time=   0.0s\n",
            "[CV 3/5] END C=10, coef0=0.01, degree=4, gamma=0.01, kernel=poly;, score=0.500 total time=   0.0s\n",
            "[CV 4/5] END C=10, coef0=0.01, degree=4, gamma=0.01, kernel=poly;, score=0.500 total time=   0.0s\n",
            "[CV 5/5] END C=10, coef0=0.01, degree=4, gamma=0.01, kernel=poly;, score=0.556 total time=   0.0s\n",
            "[CV 1/5] END C=0.1, coef0=0.5, degree=2, gamma=0.001, kernel=poly;, score=0.500 total time=   0.0s\n",
            "[CV 2/5] END C=0.1, coef0=0.5, degree=2, gamma=0.001, kernel=poly;, score=0.500 total time=   0.0s\n",
            "[CV 3/5] END C=0.1, coef0=0.5, degree=2, gamma=0.001, kernel=poly;, score=0.500 total time=   0.0s\n",
            "[CV 4/5] END C=0.1, coef0=0.5, degree=2, gamma=0.001, kernel=poly;, score=0.500 total time=   0.0s\n",
            "[CV 5/5] END C=0.1, coef0=0.5, degree=2, gamma=0.001, kernel=poly;, score=0.722 total time=   0.0s\n",
            "[CV 1/5] END C=0.1, coef0=0.01, degree=4, gamma=1, kernel=poly;, score=0.611 total time=   0.0s\n",
            "[CV 2/5] END C=0.1, coef0=0.01, degree=4, gamma=1, kernel=poly;, score=0.667 total time=   0.0s\n",
            "[CV 3/5] END C=0.1, coef0=0.01, degree=4, gamma=1, kernel=poly;, score=0.667 total time=   0.0s\n",
            "[CV 4/5] END C=0.1, coef0=0.01, degree=4, gamma=1, kernel=poly;, score=0.611 total time=   0.0s\n",
            "[CV 5/5] END C=0.1, coef0=0.01, degree=4, gamma=1, kernel=poly;, score=0.611 total time=   0.0s\n",
            "[CV 1/5] END C=1000, coef0=0.01, degree=4, gamma=0.1, kernel=poly;, score=0.611 total time=   0.0s\n",
            "[CV 2/5] END C=1000, coef0=0.01, degree=4, gamma=0.1, kernel=poly;, score=0.667 total time=   0.0s\n",
            "[CV 3/5] END C=1000, coef0=0.01, degree=4, gamma=0.1, kernel=poly;, score=0.667 total time=   0.0s\n",
            "[CV 4/5] END C=1000, coef0=0.01, degree=4, gamma=0.1, kernel=poly;, score=0.611 total time=   0.0s\n",
            "[CV 5/5] END C=1000, coef0=0.01, degree=4, gamma=0.1, kernel=poly;, score=0.611 total time=   0.0s\n",
            "[CV 1/5] END C=0.1, coef0=1, degree=2, gamma=0.01, kernel=poly;, score=0.778 total time=   0.0s\n",
            "[CV 2/5] END C=0.1, coef0=1, degree=2, gamma=0.01, kernel=poly;, score=0.667 total time=   0.0s\n",
            "[CV 3/5] END C=0.1, coef0=1, degree=2, gamma=0.01, kernel=poly;, score=0.778 total time=   0.0s\n",
            "[CV 4/5] END C=0.1, coef0=1, degree=2, gamma=0.01, kernel=poly;, score=0.667 total time=   0.0s\n",
            "[CV 5/5] END C=0.1, coef0=1, degree=2, gamma=0.01, kernel=poly;, score=0.778 total time=   0.0s\n",
            "[CV 1/5] END C=100, coef0=1, degree=4, gamma=0.1, kernel=poly;, score=0.611 total time=   0.0s\n",
            "[CV 2/5] END C=100, coef0=1, degree=4, gamma=0.1, kernel=poly;, score=0.556 total time=   0.0s\n",
            "[CV 3/5] END C=100, coef0=1, degree=4, gamma=0.1, kernel=poly;, score=0.611 total time=   0.0s\n",
            "[CV 4/5] END C=100, coef0=1, degree=4, gamma=0.1, kernel=poly;, score=0.667 total time=   0.0s\n",
            "[CV 5/5] END C=100, coef0=1, degree=4, gamma=0.1, kernel=poly;, score=0.667 total time=   0.0s\n",
            "[CV 1/5] END C=1, coef0=0.01, degree=1, gamma=0.1, kernel=poly;, score=0.833 total time=   0.0s\n",
            "[CV 2/5] END C=1, coef0=0.01, degree=1, gamma=0.1, kernel=poly;, score=0.667 total time=   0.0s\n",
            "[CV 3/5] END C=1, coef0=0.01, degree=1, gamma=0.1, kernel=poly;, score=0.833 total time=   0.0s\n",
            "[CV 4/5] END C=1, coef0=0.01, degree=1, gamma=0.1, kernel=poly;, score=0.722 total time=   0.0s\n",
            "[CV 5/5] END C=1, coef0=0.01, degree=1, gamma=0.1, kernel=poly;, score=0.833 total time=   0.0s\n",
            "[CV 1/5] END C=1, coef0=0.5, degree=4, gamma=0.0001, kernel=poly;, score=0.500 total time=   0.0s\n",
            "[CV 2/5] END C=1, coef0=0.5, degree=4, gamma=0.0001, kernel=poly;, score=0.500 total time=   0.0s\n",
            "[CV 3/5] END C=1, coef0=0.5, degree=4, gamma=0.0001, kernel=poly;, score=0.500 total time=   0.0s\n",
            "[CV 4/5] END C=1, coef0=0.5, degree=4, gamma=0.0001, kernel=poly;, score=0.500 total time=   0.0s\n",
            "[CV 5/5] END C=1, coef0=0.5, degree=4, gamma=0.0001, kernel=poly;, score=0.778 total time=   0.0s\n",
            "[CV 1/5] END C=100, coef0=1, degree=2, gamma=1, kernel=poly;, score=0.833 total time=   0.0s\n",
            "[CV 2/5] END C=100, coef0=1, degree=2, gamma=1, kernel=poly;, score=0.833 total time=   0.0s\n",
            "[CV 3/5] END C=100, coef0=1, degree=2, gamma=1, kernel=poly;, score=0.667 total time=   0.0s\n",
            "[CV 4/5] END C=100, coef0=1, degree=2, gamma=1, kernel=poly;, score=0.667 total time=   0.0s\n",
            "[CV 5/5] END C=100, coef0=1, degree=2, gamma=1, kernel=poly;, score=0.778 total time=   0.0s\n",
            "[CV 1/5] END C=1, coef0=1, degree=1, gamma=0.1, kernel=poly;, score=0.833 total time=   0.0s\n",
            "[CV 2/5] END C=1, coef0=1, degree=1, gamma=0.1, kernel=poly;, score=0.667 total time=   0.0s\n",
            "[CV 3/5] END C=1, coef0=1, degree=1, gamma=0.1, kernel=poly;, score=0.833 total time=   0.0s\n",
            "[CV 4/5] END C=1, coef0=1, degree=1, gamma=0.1, kernel=poly;, score=0.722 total time=   0.0s\n",
            "[CV 5/5] END C=1, coef0=1, degree=1, gamma=0.1, kernel=poly;, score=0.833 total time=   0.0s\n",
            "SVC(C=1, coef0=0.01, degree=1, gamma=0.1, kernel='poly')\n"
          ]
        }
      ]
    },
    {
      "cell_type": "code",
      "source": [
        "# Evaluate model 1\n",
        "model_lasso_poly = SVC(C=1, coef0=0.01, degree=1, gamma=0.1, kernel='poly')\n",
        "\n",
        "kfold = RepeatedStratifiedKFold(n_splits=10, random_state=42)\n",
        "\n",
        "cv_results_lasso_poly_auc = cross_val_score(model_lasso_poly, x_scaled_lasso, y_train, cv=kfold, scoring='roc_auc')\n",
        "cv_results_lasso_poly_a = cross_val_score(model_lasso_poly, x_scaled_lasso, y_train, cv=kfold, scoring='accuracy')\n",
        "cv_results_lasso_poly_r = cross_val_score(model_lasso_poly, x_scaled_lasso, y_train, cv=kfold, scoring='recall')\n",
        "\n",
        "print(f'Lasso rbf (roc_auc) : %f(%f)' % (cv_results_lasso_poly_auc.mean(), cv_results_lasso_poly_auc.std()))\n",
        "print(f'Lasso rbf (accuracy) : %f(%f)' % (cv_results_lasso_poly_a.mean(), cv_results_lasso_poly_a.std()))\n",
        "print(f'Lasso rbf (recall) : %f(%f)' % (cv_results_lasso_poly_r.mean(), cv_results_lasso_poly_r.std()))\n",
        " \n",
        "\n",
        "model_lasso_poly.fit(x_scaled_lasso, y_train)"
      ],
      "metadata": {
        "id": "K5sxDpo-hDwx",
        "colab": {
          "base_uri": "https://localhost:8080/"
        },
        "outputId": "5b3cb065-fd6d-4802-a859-6bb1f23584b4"
      },
      "execution_count": 19,
      "outputs": [
        {
          "output_type": "stream",
          "name": "stdout",
          "text": [
            "Lasso rbf (roc_auc) : 0.875500(0.111242)\n",
            "Lasso rbf (accuracy) : 0.798889(0.124420)\n",
            "Lasso rbf (recall) : 0.824000(0.194741)\n"
          ]
        },
        {
          "output_type": "execute_result",
          "data": {
            "text/plain": [
              "SVC(C=1, coef0=0.01, degree=1, gamma=0.1, kernel='poly')"
            ]
          },
          "metadata": {},
          "execution_count": 19
        }
      ]
    },
    {
      "cell_type": "markdown",
      "source": [
        "### Model 2 - Lasso + SCV RBF"
      ],
      "metadata": {
        "id": "zqVARBhzhTq4"
      }
    },
    {
      "cell_type": "code",
      "source": [
        "# Hyperparameters\n",
        "# defining parameter range\n",
        "param_grid_rbf = {'C': [0.1, 1, 10, 100, 1000],\n",
        "              'gamma': [1, 0.1, 0.01, 0.001, 0.0001],\n",
        "              'kernel': ['rbf']}\n",
        " \n",
        "grid_rbf =  RandomizedSearchCV(SVC(), param_grid_rbf, refit = True, verbose = 3, random_state=42)\n",
        " \n",
        "# fitting the model for grid search\n",
        "grid_rbf.fit(x_scaled_lasso, y_train)\n",
        "\n",
        "# print how our model looks after hyper-parameter tuning\n",
        "print(grid_rbf.best_estimator_)"
      ],
      "metadata": {
        "id": "2YopWK8DhryR",
        "colab": {
          "base_uri": "https://localhost:8080/"
        },
        "outputId": "1b282e6d-f8f5-4715-b6d0-e44bcd2659b1"
      },
      "execution_count": 20,
      "outputs": [
        {
          "output_type": "stream",
          "name": "stdout",
          "text": [
            "Fitting 5 folds for each of 10 candidates, totalling 50 fits\n",
            "[CV 1/5] END ......C=1, gamma=0.001, kernel=rbf;, score=0.778 total time=   0.0s\n",
            "[CV 2/5] END ......C=1, gamma=0.001, kernel=rbf;, score=0.611 total time=   0.0s\n",
            "[CV 3/5] END ......C=1, gamma=0.001, kernel=rbf;, score=0.722 total time=   0.0s\n",
            "[CV 4/5] END ......C=1, gamma=0.001, kernel=rbf;, score=0.611 total time=   0.0s\n",
            "[CV 5/5] END ......C=1, gamma=0.001, kernel=rbf;, score=0.722 total time=   0.0s\n",
            "[CV 1/5] END ......C=100, gamma=0.1, kernel=rbf;, score=0.611 total time=   0.0s\n",
            "[CV 2/5] END ......C=100, gamma=0.1, kernel=rbf;, score=0.611 total time=   0.0s\n",
            "[CV 3/5] END ......C=100, gamma=0.1, kernel=rbf;, score=0.667 total time=   0.0s\n",
            "[CV 4/5] END ......C=100, gamma=0.1, kernel=rbf;, score=0.500 total time=   0.0s\n",
            "[CV 5/5] END ......C=100, gamma=0.1, kernel=rbf;, score=0.833 total time=   0.0s\n",
            "[CV 1/5] END ........C=0.1, gamma=1, kernel=rbf;, score=0.500 total time=   0.0s\n",
            "[CV 2/5] END ........C=0.1, gamma=1, kernel=rbf;, score=0.500 total time=   0.0s\n",
            "[CV 3/5] END ........C=0.1, gamma=1, kernel=rbf;, score=0.500 total time=   0.0s\n",
            "[CV 4/5] END ........C=0.1, gamma=1, kernel=rbf;, score=0.500 total time=   0.0s\n",
            "[CV 5/5] END ........C=0.1, gamma=1, kernel=rbf;, score=0.444 total time=   0.0s\n",
            "[CV 1/5] END ...C=1000, gamma=0.001, kernel=rbf;, score=0.778 total time=   0.0s\n",
            "[CV 2/5] END ...C=1000, gamma=0.001, kernel=rbf;, score=0.500 total time=   0.0s\n",
            "[CV 3/5] END ...C=1000, gamma=0.001, kernel=rbf;, score=0.778 total time=   0.0s\n",
            "[CV 4/5] END ...C=1000, gamma=0.001, kernel=rbf;, score=0.667 total time=   0.0s\n",
            "[CV 5/5] END ...C=1000, gamma=0.001, kernel=rbf;, score=0.833 total time=   0.0s\n",
            "[CV 1/5] END .......C=10, gamma=0.1, kernel=rbf;, score=0.611 total time=   0.0s\n",
            "[CV 2/5] END .......C=10, gamma=0.1, kernel=rbf;, score=0.611 total time=   0.0s\n",
            "[CV 3/5] END .......C=10, gamma=0.1, kernel=rbf;, score=0.667 total time=   0.0s\n",
            "[CV 4/5] END .......C=10, gamma=0.1, kernel=rbf;, score=0.500 total time=   0.0s\n",
            "[CV 5/5] END .......C=10, gamma=0.1, kernel=rbf;, score=0.833 total time=   0.0s\n",
            "[CV 1/5] END .....C=1, gamma=0.0001, kernel=rbf;, score=0.500 total time=   0.0s\n",
            "[CV 2/5] END .....C=1, gamma=0.0001, kernel=rbf;, score=0.500 total time=   0.0s\n",
            "[CV 3/5] END .....C=1, gamma=0.0001, kernel=rbf;, score=0.500 total time=   0.0s\n",
            "[CV 4/5] END .....C=1, gamma=0.0001, kernel=rbf;, score=0.500 total time=   0.0s\n",
            "[CV 5/5] END .....C=1, gamma=0.0001, kernel=rbf;, score=0.778 total time=   0.0s\n",
            "[CV 1/5] END .....C=10, gamma=0.001, kernel=rbf;, score=0.833 total time=   0.0s\n",
            "[CV 2/5] END .....C=10, gamma=0.001, kernel=rbf;, score=0.778 total time=   0.0s\n",
            "[CV 3/5] END .....C=10, gamma=0.001, kernel=rbf;, score=0.778 total time=   0.0s\n",
            "[CV 4/5] END .....C=10, gamma=0.001, kernel=rbf;, score=0.667 total time=   0.0s\n",
            "[CV 5/5] END .....C=10, gamma=0.001, kernel=rbf;, score=0.778 total time=   0.0s\n",
            "[CV 1/5] END ......C=0.1, gamma=0.1, kernel=rbf;, score=0.500 total time=   0.0s\n",
            "[CV 2/5] END ......C=0.1, gamma=0.1, kernel=rbf;, score=0.500 total time=   0.0s\n",
            "[CV 3/5] END ......C=0.1, gamma=0.1, kernel=rbf;, score=0.500 total time=   0.0s\n",
            "[CV 4/5] END ......C=0.1, gamma=0.1, kernel=rbf;, score=0.500 total time=   0.0s\n",
            "[CV 5/5] END ......C=0.1, gamma=0.1, kernel=rbf;, score=0.667 total time=   0.0s\n",
            "[CV 1/5] END ....C=1000, gamma=0.01, kernel=rbf;, score=1.000 total time=   0.0s\n",
            "[CV 2/5] END ....C=1000, gamma=0.01, kernel=rbf;, score=0.667 total time=   0.0s\n",
            "[CV 3/5] END ....C=1000, gamma=0.01, kernel=rbf;, score=0.778 total time=   0.0s\n",
            "[CV 4/5] END ....C=1000, gamma=0.01, kernel=rbf;, score=0.722 total time=   0.0s\n",
            "[CV 5/5] END ....C=1000, gamma=0.01, kernel=rbf;, score=0.833 total time=   0.0s\n",
            "[CV 1/5] END ..........C=1, gamma=1, kernel=rbf;, score=0.500 total time=   0.0s\n",
            "[CV 2/5] END ..........C=1, gamma=1, kernel=rbf;, score=0.500 total time=   0.0s\n",
            "[CV 3/5] END ..........C=1, gamma=1, kernel=rbf;, score=0.500 total time=   0.0s\n",
            "[CV 4/5] END ..........C=1, gamma=1, kernel=rbf;, score=0.500 total time=   0.0s\n",
            "[CV 5/5] END ..........C=1, gamma=1, kernel=rbf;, score=0.444 total time=   0.0s\n",
            "SVC(C=1000, gamma=0.01)\n"
          ]
        }
      ]
    },
    {
      "cell_type": "code",
      "source": [
        "model_lasso_rbf = SVC(C=1000, gamma=0.01)\n",
        "kfold = RepeatedStratifiedKFold(n_splits=10, random_state=42)\n",
        "\n",
        "cv_results_lasso_rbf_auc = cross_val_score(model_lasso_rbf, x_scaled_lasso, y_train, cv=kfold, scoring='roc_auc')\n",
        "cv_results_lasso_rbf_a = cross_val_score(model_lasso_rbf, x_scaled_lasso, y_train, cv=kfold, scoring='accuracy')\n",
        "cv_results_lasso_rbf_r = cross_val_score(model_lasso_rbf, x_scaled_lasso, y_train, cv=kfold, scoring='recall')\n",
        "\n",
        "print(f'Lasso rbf (roc_auc) : %f(%f)' % (cv_results_lasso_rbf_auc.mean(), cv_results_lasso_rbf_auc.std()))\n",
        "print(f'Lasso rbf (accuracy) : %f(%f)' % (cv_results_lasso_rbf_a.mean(), cv_results_lasso_rbf_a.std()))\n",
        "print(f'Lasso rbf (recall) : %f(%f)' % (cv_results_lasso_rbf_r.mean(), cv_results_lasso_rbf_r.std()))\n",
        " "
      ],
      "metadata": {
        "id": "9exiQVJBh0Kh",
        "colab": {
          "base_uri": "https://localhost:8080/"
        },
        "outputId": "8d36bf3a-4475-46c3-8c4f-237c1d3bca5d"
      },
      "execution_count": 21,
      "outputs": [
        {
          "output_type": "stream",
          "name": "stdout",
          "text": [
            "Lasso rbf (roc_auc) : 0.862500(0.124975)\n",
            "Lasso rbf (accuracy) : 0.801111(0.118941)\n",
            "Lasso rbf (recall) : 0.779500(0.202620)\n"
          ]
        }
      ]
    },
    {
      "cell_type": "markdown",
      "source": [
        "### Model 3 - Lasso + KNN\n",
        "\n"
      ],
      "metadata": {
        "id": "BLHe7YJFh7Mu"
      }
    },
    {
      "cell_type": "code",
      "source": [
        "# Hyperparameters\n",
        "knn = KNeighborsClassifier()\n",
        "k_range = list(range(1, 45))\n",
        "param_grid_lasso = dict(n_neighbors=k_range)\n",
        "  \n",
        "# defining parameter range\n",
        "grid_knn_lasso = RandomizedSearchCV(knn, param_grid_lasso, scoring='roc_auc', return_train_score=False,verbose=1, random_state=42)\n",
        "  \n",
        "# fitting the model for grid search\n",
        "grid_knn_lasso.fit(x_scaled, y_train)\n",
        "\n",
        "# print best parameter after tuning\n",
        "print(grid_knn_lasso.best_params_)\n",
        " \n",
        "# print how our model looks after hyper-parameter tuning\n",
        "print(grid_knn_lasso.best_estimator_)\n",
        "\n",
        "accuracy_lasso = grid_knn_lasso.best_score_ *100\n",
        "print(\"Accuracy for our training dataset with tuning is : {:.2f}%\".format(accuracy_lasso))"
      ],
      "metadata": {
        "id": "N8IMPScAiKQU",
        "colab": {
          "base_uri": "https://localhost:8080/"
        },
        "outputId": "8e632e97-7406-499c-fa83-de479297f7a4"
      },
      "execution_count": 22,
      "outputs": [
        {
          "output_type": "stream",
          "name": "stdout",
          "text": [
            "Fitting 5 folds for each of 10 candidates, totalling 50 fits\n",
            "{'n_neighbors': 41}\n",
            "KNeighborsClassifier(n_neighbors=41)\n",
            "Accuracy for our training dataset with tuning is : 77.61%\n"
          ]
        }
      ]
    },
    {
      "cell_type": "code",
      "source": [
        "model_lasso_knn = KNeighborsClassifier(n_neighbors=41)\n",
        "\n",
        "kfold = RepeatedStratifiedKFold(n_splits=10, random_state=42)\n",
        "cv_results_lasso_knn_auc = cross_val_score(model_lasso_knn, x_scaled_lasso, y_train, cv=kfold, scoring='roc_auc')\n",
        "cv_results_lasso_knn_a = cross_val_score(model_lasso_knn, x_scaled_lasso, y_train, cv=kfold, scoring='accuracy')\n",
        "cv_results_lasso_knn_r = cross_val_score(model_lasso_knn, x_scaled_lasso, y_train, cv=kfold, scoring='recall')\n",
        "\n",
        "\n",
        "print(f'Lasso KNN (roc_auc) : %f(%f)'  % (cv_results_lasso_knn_auc.mean(), cv_results_lasso_knn_auc.std()))\n",
        "print(f'Lasso KNN (accuracy) : %f(%f)'  % (cv_results_lasso_knn_a.mean(), cv_results_lasso_knn_a.std()))\n",
        "print(f'Lasso KNN (recall) : %f(%f)'  % (cv_results_lasso_knn_r.mean(), cv_results_lasso_knn_r.std()))"
      ],
      "metadata": {
        "id": "mYDADja_iOc8",
        "colab": {
          "base_uri": "https://localhost:8080/"
        },
        "outputId": "2128bb35-4bb0-490a-c7a0-41688fa10694"
      },
      "execution_count": 23,
      "outputs": [
        {
          "output_type": "stream",
          "name": "stdout",
          "text": [
            "Lasso KNN (roc_auc) : 0.827000(0.124382)\n",
            "Lasso KNN (accuracy) : 0.692222(0.128481)\n",
            "Lasso KNN (recall) : 0.959500(0.087090)\n"
          ]
        }
      ]
    },
    {
      "cell_type": "markdown",
      "source": [
        "##ANOVA"
      ],
      "metadata": {
        "id": "OCYSrLeyiSU9"
      }
    },
    {
      "cell_type": "markdown",
      "source": [
        "### Model 4 - ANOVA + SVC polynomial "
      ],
      "metadata": {
        "id": "Vi8CCj5LiVWD"
      }
    },
    {
      "cell_type": "code",
      "source": [
        "# Hyperparameters\n",
        "# defining parameter range\n",
        "param_grid_anova_poly = {'C': [0.1, 1, 10, 100, 1000],\n",
        "              'gamma': [1, 0.1, 0.01, 0.001, 0.0001],\n",
        "              'degree': [1, 2, 3, 4, 5],\n",
        "              'coef0':[0.01, 0.5, 1],\n",
        "              'kernel': ['poly']}\n",
        " \n",
        "grid_anova_poly =  RandomizedSearchCV(SVC(), param_grid_anova_poly, refit = True, verbose = 3, random_state=42)\n",
        " \n",
        "# fitting the model for grid search\n",
        "grid_anova_poly.fit(x_ftest, y_train)\n",
        "\n",
        "\n",
        " \n",
        "# print how our model looks after hyper-parameter tuning\n",
        "print(grid_anova_poly.best_estimator_)"
      ],
      "metadata": {
        "id": "9cgUgtNEicAW",
        "colab": {
          "base_uri": "https://localhost:8080/"
        },
        "outputId": "19383152-310b-47a8-daf6-85e5bdd5c85e"
      },
      "execution_count": 24,
      "outputs": [
        {
          "output_type": "stream",
          "name": "stdout",
          "text": [
            "Fitting 5 folds for each of 10 candidates, totalling 50 fits\n",
            "[CV 1/5] END C=10, coef0=0.01, degree=4, gamma=0.01, kernel=poly;, score=0.611 total time=   0.0s\n",
            "[CV 2/5] END C=10, coef0=0.01, degree=4, gamma=0.01, kernel=poly;, score=0.667 total time=   0.0s\n",
            "[CV 3/5] END C=10, coef0=0.01, degree=4, gamma=0.01, kernel=poly;, score=0.833 total time=   0.0s\n",
            "[CV 4/5] END C=10, coef0=0.01, degree=4, gamma=0.01, kernel=poly;, score=0.667 total time=   0.0s\n",
            "[CV 5/5] END C=10, coef0=0.01, degree=4, gamma=0.01, kernel=poly;, score=0.667 total time=   0.0s\n",
            "[CV 1/5] END C=0.1, coef0=0.5, degree=2, gamma=0.001, kernel=poly;, score=0.556 total time=   0.0s\n",
            "[CV 2/5] END C=0.1, coef0=0.5, degree=2, gamma=0.001, kernel=poly;, score=0.500 total time=   0.0s\n",
            "[CV 3/5] END C=0.1, coef0=0.5, degree=2, gamma=0.001, kernel=poly;, score=0.500 total time=   0.0s\n",
            "[CV 4/5] END C=0.1, coef0=0.5, degree=2, gamma=0.001, kernel=poly;, score=0.500 total time=   0.0s\n",
            "[CV 5/5] END C=0.1, coef0=0.5, degree=2, gamma=0.001, kernel=poly;, score=0.556 total time=   0.0s\n",
            "[CV 1/5] END C=0.1, coef0=0.01, degree=4, gamma=1, kernel=poly;, score=0.722 total time=   0.0s\n",
            "[CV 2/5] END C=0.1, coef0=0.01, degree=4, gamma=1, kernel=poly;, score=0.500 total time=   0.0s\n",
            "[CV 3/5] END C=0.1, coef0=0.01, degree=4, gamma=1, kernel=poly;, score=0.556 total time=   0.0s\n",
            "[CV 4/5] END C=0.1, coef0=0.01, degree=4, gamma=1, kernel=poly;, score=0.833 total time=   0.0s\n",
            "[CV 5/5] END C=0.1, coef0=0.01, degree=4, gamma=1, kernel=poly;, score=0.667 total time=   0.0s\n",
            "[CV 1/5] END C=1000, coef0=0.01, degree=4, gamma=0.1, kernel=poly;, score=0.722 total time=   0.0s\n",
            "[CV 2/5] END C=1000, coef0=0.01, degree=4, gamma=0.1, kernel=poly;, score=0.500 total time=   0.0s\n",
            "[CV 3/5] END C=1000, coef0=0.01, degree=4, gamma=0.1, kernel=poly;, score=0.556 total time=   0.0s\n",
            "[CV 4/5] END C=1000, coef0=0.01, degree=4, gamma=0.1, kernel=poly;, score=0.833 total time=   0.0s\n",
            "[CV 5/5] END C=1000, coef0=0.01, degree=4, gamma=0.1, kernel=poly;, score=0.667 total time=   0.0s\n",
            "[CV 1/5] END C=0.1, coef0=1, degree=2, gamma=0.01, kernel=poly;, score=0.722 total time=   0.0s\n",
            "[CV 2/5] END C=0.1, coef0=1, degree=2, gamma=0.01, kernel=poly;, score=0.500 total time=   0.0s\n",
            "[CV 3/5] END C=0.1, coef0=1, degree=2, gamma=0.01, kernel=poly;, score=0.889 total time=   0.0s\n",
            "[CV 4/5] END C=0.1, coef0=1, degree=2, gamma=0.01, kernel=poly;, score=0.722 total time=   0.0s\n",
            "[CV 5/5] END C=0.1, coef0=1, degree=2, gamma=0.01, kernel=poly;, score=0.667 total time=   0.0s\n",
            "[CV 1/5] END C=100, coef0=1, degree=4, gamma=0.1, kernel=poly;, score=0.667 total time=   0.0s\n",
            "[CV 2/5] END C=100, coef0=1, degree=4, gamma=0.1, kernel=poly;, score=0.556 total time=   0.0s\n",
            "[CV 3/5] END C=100, coef0=1, degree=4, gamma=0.1, kernel=poly;, score=0.722 total time=   0.0s\n",
            "[CV 4/5] END C=100, coef0=1, degree=4, gamma=0.1, kernel=poly;, score=0.778 total time=   0.0s\n",
            "[CV 5/5] END C=100, coef0=1, degree=4, gamma=0.1, kernel=poly;, score=0.722 total time=   0.0s\n",
            "[CV 1/5] END C=1, coef0=0.01, degree=1, gamma=0.1, kernel=poly;, score=0.778 total time=   0.0s\n",
            "[CV 2/5] END C=1, coef0=0.01, degree=1, gamma=0.1, kernel=poly;, score=0.611 total time=   0.0s\n",
            "[CV 3/5] END C=1, coef0=0.01, degree=1, gamma=0.1, kernel=poly;, score=0.722 total time=   0.0s\n",
            "[CV 4/5] END C=1, coef0=0.01, degree=1, gamma=0.1, kernel=poly;, score=0.833 total time=   0.0s\n",
            "[CV 5/5] END C=1, coef0=0.01, degree=1, gamma=0.1, kernel=poly;, score=0.722 total time=   0.0s\n",
            "[CV 1/5] END C=1, coef0=0.5, degree=4, gamma=0.0001, kernel=poly;, score=0.500 total time=   0.0s\n",
            "[CV 2/5] END C=1, coef0=0.5, degree=4, gamma=0.0001, kernel=poly;, score=0.500 total time=   0.0s\n",
            "[CV 3/5] END C=1, coef0=0.5, degree=4, gamma=0.0001, kernel=poly;, score=0.500 total time=   0.0s\n",
            "[CV 4/5] END C=1, coef0=0.5, degree=4, gamma=0.0001, kernel=poly;, score=0.500 total time=   0.0s\n",
            "[CV 5/5] END C=1, coef0=0.5, degree=4, gamma=0.0001, kernel=poly;, score=0.556 total time=   0.0s\n",
            "[CV 1/5] END C=100, coef0=1, degree=2, gamma=1, kernel=poly;, score=0.722 total time=   0.0s\n",
            "[CV 2/5] END C=100, coef0=1, degree=2, gamma=1, kernel=poly;, score=0.722 total time=   0.0s\n",
            "[CV 3/5] END C=100, coef0=1, degree=2, gamma=1, kernel=poly;, score=0.722 total time=   0.0s\n",
            "[CV 4/5] END C=100, coef0=1, degree=2, gamma=1, kernel=poly;, score=0.778 total time=   0.0s\n",
            "[CV 5/5] END C=100, coef0=1, degree=2, gamma=1, kernel=poly;, score=0.611 total time=   0.0s\n",
            "[CV 1/5] END C=1, coef0=1, degree=1, gamma=0.1, kernel=poly;, score=0.778 total time=   0.0s\n",
            "[CV 2/5] END C=1, coef0=1, degree=1, gamma=0.1, kernel=poly;, score=0.611 total time=   0.0s\n",
            "[CV 3/5] END C=1, coef0=1, degree=1, gamma=0.1, kernel=poly;, score=0.722 total time=   0.0s\n",
            "[CV 4/5] END C=1, coef0=1, degree=1, gamma=0.1, kernel=poly;, score=0.833 total time=   0.0s\n",
            "[CV 5/5] END C=1, coef0=1, degree=1, gamma=0.1, kernel=poly;, score=0.722 total time=   0.0s\n",
            "SVC(C=1, coef0=0.01, degree=1, gamma=0.1, kernel='poly')\n"
          ]
        }
      ]
    },
    {
      "cell_type": "code",
      "source": [
        "model_anova_poly = SVC(C=1, coef0=0.01, degree=1, gamma=0.1, kernel='poly')\n",
        "\n",
        "\n",
        "kfold = RepeatedStratifiedKFold(n_splits=10, random_state=42)\n",
        "cv_results_anova_poly_auc = cross_val_score(model_anova_poly, x_ftest, y_train, cv=kfold, scoring='roc_auc')\n",
        "cv_results_anova_poly_a= cross_val_score(model_anova_poly, x_ftest, y_train, cv=kfold, scoring='accuracy')\n",
        "cv_results_anova_poly_r = cross_val_score(model_anova_poly, x_ftest, y_train, cv=kfold, scoring='recall')\n",
        "\n",
        "print(f'ANOVA SVC poly (roc_auc) : %f(%f)' % (cv_results_anova_poly_auc.mean(), cv_results_anova_poly_auc.std()))\n",
        "print(f'ANOVA SVC poly (accuracy) : %f(%f)' % (cv_results_anova_poly_a.mean(), cv_results_anova_poly_a.std()))\n",
        "print(f'ANOVA SVC poly (recall) : %f(%f)' % (cv_results_anova_poly_r.mean(), cv_results_anova_poly_r.std()))"
      ],
      "metadata": {
        "id": "c8ZhmpkJijjR",
        "colab": {
          "base_uri": "https://localhost:8080/"
        },
        "outputId": "e1ba3696-5a72-4bf5-8a99-eccfd24bb4c8"
      },
      "execution_count": 25,
      "outputs": [
        {
          "output_type": "stream",
          "name": "stdout",
          "text": [
            "ANOVA SVC poly (roc_auc) : 0.799000(0.131145)\n",
            "ANOVA SVC poly (accuracy) : 0.710000(0.128520)\n",
            "ANOVA SVC poly (recall) : 0.724000(0.215114)\n"
          ]
        }
      ]
    },
    {
      "cell_type": "markdown",
      "source": [
        "### Model 5 - ANOVA + SVC RBF"
      ],
      "metadata": {
        "id": "MRlWh4zcimae"
      }
    },
    {
      "cell_type": "code",
      "source": [
        "# Hyperparameters \n",
        "# defining parameter range\n",
        "param_grid_anova_rbf = {'C': [0.1, 1, 10, 100, 1000],\n",
        "              'gamma': [1, 0.1, 0.01, 0.001, 0.0001],\n",
        "              'kernel': ['rbf']}\n",
        " \n",
        "grid_anova_rbf =  RandomizedSearchCV(SVC(), param_grid_anova_rbf , refit = True, verbose = 3,random_state=42)\n",
        " \n",
        "# fitting the model for grid search\n",
        "grid_anova_rbf.fit(x_ftest, y_train)\n",
        "\n",
        "# print how our model looks after hyper-parameter tuning\n",
        "print(grid_anova_rbf.best_estimator_)\n"
      ],
      "metadata": {
        "id": "TAJkJgmBitJY",
        "colab": {
          "base_uri": "https://localhost:8080/"
        },
        "outputId": "e527660d-114e-4c2d-8cb4-9977f4e289d3"
      },
      "execution_count": 26,
      "outputs": [
        {
          "output_type": "stream",
          "name": "stdout",
          "text": [
            "Fitting 5 folds for each of 10 candidates, totalling 50 fits\n",
            "[CV 1/5] END ......C=1, gamma=0.001, kernel=rbf;, score=0.722 total time=   0.0s\n",
            "[CV 2/5] END ......C=1, gamma=0.001, kernel=rbf;, score=0.556 total time=   0.0s\n",
            "[CV 3/5] END ......C=1, gamma=0.001, kernel=rbf;, score=0.833 total time=   0.0s\n",
            "[CV 4/5] END ......C=1, gamma=0.001, kernel=rbf;, score=0.667 total time=   0.0s\n",
            "[CV 5/5] END ......C=1, gamma=0.001, kernel=rbf;, score=0.667 total time=   0.0s\n",
            "[CV 1/5] END ......C=100, gamma=0.1, kernel=rbf;, score=0.667 total time=   0.0s\n",
            "[CV 2/5] END ......C=100, gamma=0.1, kernel=rbf;, score=0.611 total time=   0.0s\n",
            "[CV 3/5] END ......C=100, gamma=0.1, kernel=rbf;, score=0.722 total time=   0.0s\n",
            "[CV 4/5] END ......C=100, gamma=0.1, kernel=rbf;, score=0.500 total time=   0.0s\n",
            "[CV 5/5] END ......C=100, gamma=0.1, kernel=rbf;, score=0.611 total time=   0.0s\n",
            "[CV 1/5] END ........C=0.1, gamma=1, kernel=rbf;, score=0.500 total time=   0.0s\n",
            "[CV 2/5] END ........C=0.1, gamma=1, kernel=rbf;, score=0.500 total time=   0.0s\n",
            "[CV 3/5] END ........C=0.1, gamma=1, kernel=rbf;, score=0.500 total time=   0.0s\n",
            "[CV 4/5] END ........C=0.1, gamma=1, kernel=rbf;, score=0.500 total time=   0.0s\n",
            "[CV 5/5] END ........C=0.1, gamma=1, kernel=rbf;, score=0.389 total time=   0.0s\n",
            "[CV 1/5] END ...C=1000, gamma=0.001, kernel=rbf;, score=0.611 total time=   0.0s\n",
            "[CV 2/5] END ...C=1000, gamma=0.001, kernel=rbf;, score=0.556 total time=   0.0s\n",
            "[CV 3/5] END ...C=1000, gamma=0.001, kernel=rbf;, score=0.722 total time=   0.0s\n",
            "[CV 4/5] END ...C=1000, gamma=0.001, kernel=rbf;, score=0.667 total time=   0.0s\n",
            "[CV 5/5] END ...C=1000, gamma=0.001, kernel=rbf;, score=0.778 total time=   0.0s\n",
            "[CV 1/5] END .......C=10, gamma=0.1, kernel=rbf;, score=0.667 total time=   0.0s\n",
            "[CV 2/5] END .......C=10, gamma=0.1, kernel=rbf;, score=0.611 total time=   0.0s\n",
            "[CV 3/5] END .......C=10, gamma=0.1, kernel=rbf;, score=0.722 total time=   0.0s\n",
            "[CV 4/5] END .......C=10, gamma=0.1, kernel=rbf;, score=0.500 total time=   0.0s\n",
            "[CV 5/5] END .......C=10, gamma=0.1, kernel=rbf;, score=0.611 total time=   0.0s\n",
            "[CV 1/5] END .....C=1, gamma=0.0001, kernel=rbf;, score=0.611 total time=   0.0s\n",
            "[CV 2/5] END .....C=1, gamma=0.0001, kernel=rbf;, score=0.611 total time=   0.0s\n",
            "[CV 3/5] END .....C=1, gamma=0.0001, kernel=rbf;, score=0.500 total time=   0.0s\n",
            "[CV 4/5] END .....C=1, gamma=0.0001, kernel=rbf;, score=0.667 total time=   0.0s\n",
            "[CV 5/5] END .....C=1, gamma=0.0001, kernel=rbf;, score=0.611 total time=   0.0s\n",
            "[CV 1/5] END .....C=10, gamma=0.001, kernel=rbf;, score=0.722 total time=   0.0s\n",
            "[CV 2/5] END .....C=10, gamma=0.001, kernel=rbf;, score=0.722 total time=   0.0s\n",
            "[CV 3/5] END .....C=10, gamma=0.001, kernel=rbf;, score=0.722 total time=   0.0s\n",
            "[CV 4/5] END .....C=10, gamma=0.001, kernel=rbf;, score=0.667 total time=   0.0s\n",
            "[CV 5/5] END .....C=10, gamma=0.001, kernel=rbf;, score=0.667 total time=   0.0s\n",
            "[CV 1/5] END ......C=0.1, gamma=0.1, kernel=rbf;, score=0.500 total time=   0.0s\n",
            "[CV 2/5] END ......C=0.1, gamma=0.1, kernel=rbf;, score=0.500 total time=   0.0s\n",
            "[CV 3/5] END ......C=0.1, gamma=0.1, kernel=rbf;, score=0.500 total time=   0.0s\n",
            "[CV 4/5] END ......C=0.1, gamma=0.1, kernel=rbf;, score=0.500 total time=   0.0s\n",
            "[CV 5/5] END ......C=0.1, gamma=0.1, kernel=rbf;, score=0.444 total time=   0.0s\n",
            "[CV 1/5] END ....C=1000, gamma=0.01, kernel=rbf;, score=0.611 total time=   0.0s\n",
            "[CV 2/5] END ....C=1000, gamma=0.01, kernel=rbf;, score=0.722 total time=   0.0s\n",
            "[CV 3/5] END ....C=1000, gamma=0.01, kernel=rbf;, score=0.778 total time=   0.0s\n",
            "[CV 4/5] END ....C=1000, gamma=0.01, kernel=rbf;, score=0.722 total time=   0.0s\n",
            "[CV 5/5] END ....C=1000, gamma=0.01, kernel=rbf;, score=0.778 total time=   0.0s\n",
            "[CV 1/5] END ..........C=1, gamma=1, kernel=rbf;, score=0.500 total time=   0.0s\n",
            "[CV 2/5] END ..........C=1, gamma=1, kernel=rbf;, score=0.500 total time=   0.0s\n",
            "[CV 3/5] END ..........C=1, gamma=1, kernel=rbf;, score=0.500 total time=   0.0s\n",
            "[CV 4/5] END ..........C=1, gamma=1, kernel=rbf;, score=0.500 total time=   0.0s\n",
            "[CV 5/5] END ..........C=1, gamma=1, kernel=rbf;, score=0.389 total time=   0.0s\n",
            "SVC(C=1000, gamma=0.01)\n"
          ]
        }
      ]
    },
    {
      "cell_type": "code",
      "source": [
        "model_anova_rbf = SVC(C=1000, gamma=0.01)\n",
        "\n",
        "kfold = RepeatedStratifiedKFold(n_splits=10, random_state=42)\n",
        "cv_results_anova_rbf_auc = cross_val_score(model_anova_rbf, x_ftest, y_train, cv=kfold, scoring='roc_auc')\n",
        "cv_results_anova_rbf_a = cross_val_score(model_anova_rbf, x_ftest, y_train, cv=kfold, scoring='accuracy')\n",
        "cv_results_anova_rbf_r = cross_val_score(model_anova_rbf, x_ftest, y_train, cv=kfold, scoring='recall')\n",
        "\n",
        "\n",
        "print(f'ANOVA SVC RBF (roc_auc) : %f(%f)'  % (cv_results_anova_rbf_auc.mean(), cv_results_anova_rbf_auc.std()))\n",
        "print(f'ANOVA SVC RBF (accuracy) : %f(%f)'  % (cv_results_anova_rbf_a.mean(), cv_results_anova_rbf_a.std()))\n",
        "print(f'ANOVA SVC RBF (recall) : %f(%f)'  % (cv_results_anova_rbf_r.mean(), cv_results_anova_rbf_r.std()))"
      ],
      "metadata": {
        "id": "dfF4I-7wiwgK",
        "colab": {
          "base_uri": "https://localhost:8080/"
        },
        "outputId": "6ee6b6f6-5b9b-428e-a39b-478f980ed0ef"
      },
      "execution_count": 27,
      "outputs": [
        {
          "output_type": "stream",
          "name": "stdout",
          "text": [
            "ANOVA SVC RBF (roc_auc) : 0.780500(0.156028)\n",
            "ANOVA SVC RBF (accuracy) : 0.734444(0.148153)\n",
            "ANOVA SVC RBF (recall) : 0.747000(0.196064)\n"
          ]
        }
      ]
    },
    {
      "cell_type": "markdown",
      "source": [
        "### Model 6 - ANOVA + KNN"
      ],
      "metadata": {
        "id": "5rAGZ8Vxi4FZ"
      }
    },
    {
      "cell_type": "code",
      "source": [
        "# Hyperparameters\n",
        "param_grid_anova = dict(n_neighbors=k_range)\n",
        "  \n",
        "# defining parameter range\n",
        "grid_knn_anova = RandomizedSearchCV(knn, param_grid_anova, scoring='roc_auc', return_train_score=False,verbose=1, random_state=42)\n",
        "  \n",
        "# fitting the model for grid search\n",
        "grid_knn_anova.fit(x_ftest, y_train)\n",
        "\n",
        "# print best parameter after tuning\n",
        "print(grid_knn_anova.best_params_)\n",
        " \n",
        "# print how our model looks after hyper-parameter tuning\n",
        "print(grid_knn_anova.best_estimator_)\n",
        "\n",
        "accuracy_anova = grid_knn_anova.best_score_ *100\n",
        "print(\"Accuracy for our training dataset with tuning is : {:.2f}%\".format(accuracy_anova))"
      ],
      "metadata": {
        "id": "ExMB_RmTi9pu",
        "colab": {
          "base_uri": "https://localhost:8080/"
        },
        "outputId": "2cc23b1c-3064-468f-f5da-6b0451163021"
      },
      "execution_count": 28,
      "outputs": [
        {
          "output_type": "stream",
          "name": "stdout",
          "text": [
            "Fitting 5 folds for each of 10 candidates, totalling 50 fits\n",
            "{'n_neighbors': 9}\n",
            "KNeighborsClassifier(n_neighbors=9)\n",
            "Accuracy for our training dataset with tuning is : 81.80%\n"
          ]
        }
      ]
    },
    {
      "cell_type": "code",
      "source": [
        "model_anova_knn = KNeighborsClassifier(n_neighbors=9)\n",
        "\n",
        "kfold = RepeatedStratifiedKFold(n_splits=10, random_state=42)\n",
        "cv_results_anova_knn_auc = cross_val_score(model_anova_knn, x_ftest, y_train, cv=kfold, scoring='roc_auc')\n",
        "cv_results_anova_knn_a = cross_val_score(model_anova_knn, x_ftest, y_train, cv=kfold, scoring='accuracy')\n",
        "cv_results_anova_knn_r = cross_val_score(model_anova_knn, x_ftest, y_train, cv=kfold, scoring='recall')\n",
        "\n",
        "\n",
        "print(f'ANOVA KNN (roc_auc) : %f(%f)'  % (cv_results_anova_knn_auc.mean(), cv_results_anova_knn_auc.std()))\n",
        "print(f'ANOVA KNN (accuracy) : %f(%f)'  % (cv_results_anova_knn_a.mean(), cv_results_anova_knn_a.std()))\n",
        "print(f'ANOVA KNN (recall) : %f(%f)'  % (cv_results_anova_knn_r.mean(), cv_results_anova_knn_r.std()))"
      ],
      "metadata": {
        "id": "T7p1J3nOjA82",
        "colab": {
          "base_uri": "https://localhost:8080/"
        },
        "outputId": "98201f5e-9103-49fc-cb81-e0c4fd124bae"
      },
      "execution_count": 29,
      "outputs": [
        {
          "output_type": "stream",
          "name": "stdout",
          "text": [
            "ANOVA KNN (roc_auc) : 0.822250(0.147347)\n",
            "ANOVA KNN (accuracy) : 0.726667(0.135556)\n",
            "ANOVA KNN (recall) : 0.716500(0.222380)\n"
          ]
        }
      ]
    },
    {
      "cell_type": "markdown",
      "source": [
        "##T-test "
      ],
      "metadata": {
        "id": "0mo_dZpGjDHq"
      }
    },
    {
      "cell_type": "markdown",
      "source": [
        "T-test + SVC poly produced an extremely long runtime. Therefore, this model was exluded from the analysis"
      ],
      "metadata": {
        "id": "8KRHOqETjJvz"
      }
    },
    {
      "cell_type": "markdown",
      "source": [
        "### Model 7 - T-test + SVC RBF"
      ],
      "metadata": {
        "id": "Bltsn5brjekL"
      }
    },
    {
      "cell_type": "code",
      "source": [
        "# Hyperparameters\n",
        "# defining parameter range\n",
        "param_grid_t_rbf = {'C': [0.1, 1, 10, 100, 1000],\n",
        "              'gamma': [1, 0.1, 0.01, 0.001, 0.0001],\n",
        "              'kernel': ['rbf']}\n",
        " \n",
        "grid_t_rbf =  RandomizedSearchCV(SVC(), param_grid_t_rbf , refit = True, verbose = 3,random_state=42)\n",
        " \n",
        "# fitting the model for grid search\n",
        "grid_t_rbf.fit(x_train_t, y_train)\n",
        "\n",
        "# print how our model looks after hyper-parameter tuning\n",
        "print(grid_t_rbf.best_estimator_)"
      ],
      "metadata": {
        "id": "sgPx_rlujiUO",
        "colab": {
          "base_uri": "https://localhost:8080/"
        },
        "outputId": "d01de3bc-f2a2-435b-a42b-621792647d02"
      },
      "execution_count": 30,
      "outputs": [
        {
          "output_type": "stream",
          "name": "stdout",
          "text": [
            "Fitting 5 folds for each of 10 candidates, totalling 50 fits\n",
            "[CV 1/5] END ......C=1, gamma=0.001, kernel=rbf;, score=0.500 total time=   0.0s\n",
            "[CV 2/5] END ......C=1, gamma=0.001, kernel=rbf;, score=0.500 total time=   0.0s\n",
            "[CV 3/5] END ......C=1, gamma=0.001, kernel=rbf;, score=0.500 total time=   0.0s\n",
            "[CV 4/5] END ......C=1, gamma=0.001, kernel=rbf;, score=0.500 total time=   0.0s\n",
            "[CV 5/5] END ......C=1, gamma=0.001, kernel=rbf;, score=0.444 total time=   0.0s\n",
            "[CV 1/5] END ......C=100, gamma=0.1, kernel=rbf;, score=0.500 total time=   0.0s\n",
            "[CV 2/5] END ......C=100, gamma=0.1, kernel=rbf;, score=0.500 total time=   0.0s\n",
            "[CV 3/5] END ......C=100, gamma=0.1, kernel=rbf;, score=0.500 total time=   0.0s\n",
            "[CV 4/5] END ......C=100, gamma=0.1, kernel=rbf;, score=0.500 total time=   0.0s\n",
            "[CV 5/5] END ......C=100, gamma=0.1, kernel=rbf;, score=0.444 total time=   0.0s\n",
            "[CV 1/5] END ........C=0.1, gamma=1, kernel=rbf;, score=0.500 total time=   0.0s\n",
            "[CV 2/5] END ........C=0.1, gamma=1, kernel=rbf;, score=0.500 total time=   0.0s\n",
            "[CV 3/5] END ........C=0.1, gamma=1, kernel=rbf;, score=0.500 total time=   0.0s\n",
            "[CV 4/5] END ........C=0.1, gamma=1, kernel=rbf;, score=0.500 total time=   0.0s\n",
            "[CV 5/5] END ........C=0.1, gamma=1, kernel=rbf;, score=0.444 total time=   0.0s\n",
            "[CV 1/5] END ...C=1000, gamma=0.001, kernel=rbf;, score=0.500 total time=   0.0s\n",
            "[CV 2/5] END ...C=1000, gamma=0.001, kernel=rbf;, score=0.500 total time=   0.0s\n",
            "[CV 3/5] END ...C=1000, gamma=0.001, kernel=rbf;, score=0.500 total time=   0.0s\n",
            "[CV 4/5] END ...C=1000, gamma=0.001, kernel=rbf;, score=0.500 total time=   0.0s\n",
            "[CV 5/5] END ...C=1000, gamma=0.001, kernel=rbf;, score=0.444 total time=   0.0s\n",
            "[CV 1/5] END .......C=10, gamma=0.1, kernel=rbf;, score=0.500 total time=   0.0s\n",
            "[CV 2/5] END .......C=10, gamma=0.1, kernel=rbf;, score=0.500 total time=   0.0s\n",
            "[CV 3/5] END .......C=10, gamma=0.1, kernel=rbf;, score=0.500 total time=   0.0s\n",
            "[CV 4/5] END .......C=10, gamma=0.1, kernel=rbf;, score=0.500 total time=   0.0s\n",
            "[CV 5/5] END .......C=10, gamma=0.1, kernel=rbf;, score=0.444 total time=   0.0s\n",
            "[CV 1/5] END .....C=1, gamma=0.0001, kernel=rbf;, score=0.500 total time=   0.0s\n",
            "[CV 2/5] END .....C=1, gamma=0.0001, kernel=rbf;, score=0.500 total time=   0.0s\n",
            "[CV 3/5] END .....C=1, gamma=0.0001, kernel=rbf;, score=0.500 total time=   0.0s\n",
            "[CV 4/5] END .....C=1, gamma=0.0001, kernel=rbf;, score=0.500 total time=   0.0s\n",
            "[CV 5/5] END .....C=1, gamma=0.0001, kernel=rbf;, score=0.500 total time=   0.0s\n",
            "[CV 1/5] END .....C=10, gamma=0.001, kernel=rbf;, score=0.500 total time=   0.0s\n",
            "[CV 2/5] END .....C=10, gamma=0.001, kernel=rbf;, score=0.500 total time=   0.0s\n",
            "[CV 3/5] END .....C=10, gamma=0.001, kernel=rbf;, score=0.500 total time=   0.0s\n",
            "[CV 4/5] END .....C=10, gamma=0.001, kernel=rbf;, score=0.500 total time=   0.0s\n",
            "[CV 5/5] END .....C=10, gamma=0.001, kernel=rbf;, score=0.444 total time=   0.0s\n",
            "[CV 1/5] END ......C=0.1, gamma=0.1, kernel=rbf;, score=0.500 total time=   0.0s\n",
            "[CV 2/5] END ......C=0.1, gamma=0.1, kernel=rbf;, score=0.500 total time=   0.0s\n",
            "[CV 3/5] END ......C=0.1, gamma=0.1, kernel=rbf;, score=0.500 total time=   0.0s\n",
            "[CV 4/5] END ......C=0.1, gamma=0.1, kernel=rbf;, score=0.500 total time=   0.0s\n",
            "[CV 5/5] END ......C=0.1, gamma=0.1, kernel=rbf;, score=0.444 total time=   0.0s\n",
            "[CV 1/5] END ....C=1000, gamma=0.01, kernel=rbf;, score=0.500 total time=   0.0s\n",
            "[CV 2/5] END ....C=1000, gamma=0.01, kernel=rbf;, score=0.500 total time=   0.0s\n",
            "[CV 3/5] END ....C=1000, gamma=0.01, kernel=rbf;, score=0.500 total time=   0.0s\n",
            "[CV 4/5] END ....C=1000, gamma=0.01, kernel=rbf;, score=0.500 total time=   0.0s\n",
            "[CV 5/5] END ....C=1000, gamma=0.01, kernel=rbf;, score=0.444 total time=   0.0s\n",
            "[CV 1/5] END ..........C=1, gamma=1, kernel=rbf;, score=0.500 total time=   0.0s\n",
            "[CV 2/5] END ..........C=1, gamma=1, kernel=rbf;, score=0.500 total time=   0.0s\n",
            "[CV 3/5] END ..........C=1, gamma=1, kernel=rbf;, score=0.500 total time=   0.0s\n",
            "[CV 4/5] END ..........C=1, gamma=1, kernel=rbf;, score=0.500 total time=   0.0s\n",
            "[CV 5/5] END ..........C=1, gamma=1, kernel=rbf;, score=0.444 total time=   0.0s\n",
            "SVC(C=1, gamma=0.0001)\n"
          ]
        }
      ]
    },
    {
      "cell_type": "code",
      "source": [
        "model_t_rbf = SVC(C=1, gamma=0.0001)\n",
        "\n",
        "kfold = RepeatedStratifiedKFold(n_splits=10, random_state=42)\n",
        "cv_results_t_rbf_auc = cross_val_score(model_t_rbf, x_train_t, y_train, cv=kfold, scoring='roc_auc')\n",
        "cv_results_t_rbf_a= cross_val_score(model_t_rbf, x_train_t, y_train, cv=kfold, scoring='accuracy')\n",
        "cv_results_t_rbf_r = cross_val_score(model_t_rbf, x_train_t, y_train, cv=kfold, scoring='recall')\n",
        "\n",
        "\n",
        "print(f't-test SVC RBF (roc_auc) : %f(%f)'  % (cv_results_t_rbf_auc.mean(), cv_results_t_rbf_auc.std()))\n",
        "print(f't-test SVC RBF (accuracy) : %f(%f)'  % (cv_results_t_rbf_a.mean(), cv_results_t_rbf_a.std()))\n",
        "print(f't-test SVC RBF (recall) : %f(%f)'  % (cv_results_t_rbf_r.mean(), cv_results_t_rbf_r.std()))"
      ],
      "metadata": {
        "id": "U1GzeB0EjpA_",
        "colab": {
          "base_uri": "https://localhost:8080/"
        },
        "outputId": "d0b7fe53-5f94-444e-f956-d833d027b6fa"
      },
      "execution_count": 31,
      "outputs": [
        {
          "output_type": "stream",
          "name": "stdout",
          "text": [
            "t-test SVC RBF (roc_auc) : 0.500000(0.000000)\n",
            "t-test SVC RBF (accuracy) : 0.511111(0.054433)\n",
            "t-test SVC RBF (recall) : 0.000000(0.000000)\n"
          ]
        }
      ]
    },
    {
      "cell_type": "markdown",
      "source": [
        "###Model 8 - T-test + KNN "
      ],
      "metadata": {
        "id": "Qzcwr7GNjrz8"
      }
    },
    {
      "cell_type": "code",
      "source": [
        "# Hyperparameters\n",
        "param_grid_t = dict(n_neighbors=k_range)\n",
        "  \n",
        "# defining parameter range\n",
        "grid_knn_t= RandomizedSearchCV(knn, param_grid_t, scoring='roc_auc', return_train_score=False,verbose=1, random_state=42)\n",
        "  \n",
        "# fitting the model for grid search\n",
        "grid_knn_t.fit(x_train_t, y_train)\n",
        "\n",
        "# print best parameter after tuning\n",
        "print(grid_knn_t.best_params_)\n",
        " \n",
        "# print how our model looks after hyper-parameter tuning\n",
        "print(grid_knn_t.best_estimator_)\n",
        "\n",
        "accuracy_t = grid_knn_t.best_score_ *100\n",
        "print(\"Accuracy for our training dataset with tuning is : {:.2f}%\".format(accuracy_t))"
      ],
      "metadata": {
        "id": "rfgU2KiNj1Ax",
        "colab": {
          "base_uri": "https://localhost:8080/"
        },
        "outputId": "d38d278d-6c76-4683-fbc8-e4d3cce29b69"
      },
      "execution_count": 32,
      "outputs": [
        {
          "output_type": "stream",
          "name": "stdout",
          "text": [
            "Fitting 5 folds for each of 10 candidates, totalling 50 fits\n",
            "{'n_neighbors': 13}\n",
            "KNeighborsClassifier(n_neighbors=13)\n",
            "Accuracy for our training dataset with tuning is : 83.02%\n"
          ]
        }
      ]
    },
    {
      "cell_type": "code",
      "source": [
        "model_t_knn = KNeighborsClassifier(n_neighbors=13)\n",
        "\n",
        "kfold = RepeatedStratifiedKFold(n_splits=10, random_state=42)\n",
        "cv_results_t_knn_auc = cross_val_score(model_t_knn, x_train_t, y_train, cv=kfold, scoring='roc_auc')\n",
        "cv_results_t_knn_a = cross_val_score(model_t_knn, x_train_t, y_train, cv=kfold, scoring='accuracy')\n",
        "cv_results_t_knn_r = cross_val_score(model_t_knn, x_train_t, y_train, cv=kfold, scoring='recall')\n",
        "\n",
        "\n",
        "print(f't-test KNN (roc_auc) : %f(%f)'  % (cv_results_t_knn_auc.mean(), cv_results_t_knn_auc.std()))\n",
        "print(f't-test KNN (accuracy) : %f(%f)'  % (cv_results_t_knn_a.mean(), cv_results_t_knn_a.std()))\n",
        "print(f't-test KNN (recall) : %f(%f)'  % (cv_results_t_knn_r.mean(), cv_results_t_knn_r.std()))"
      ],
      "metadata": {
        "id": "DvnRa0Taj2X4",
        "colab": {
          "base_uri": "https://localhost:8080/"
        },
        "outputId": "48dba9c4-c180-469b-b43b-661c8b36eee8"
      },
      "execution_count": 33,
      "outputs": [
        {
          "output_type": "stream",
          "name": "stdout",
          "text": [
            "t-test KNN (roc_auc) : 0.818750(0.134088)\n",
            "t-test KNN (accuracy) : 0.692222(0.144748)\n",
            "t-test KNN (recall) : 0.614500(0.242105)\n"
          ]
        }
      ]
    },
    {
      "cell_type": "markdown",
      "source": [
        "##Model 9 - PCA + KNN"
      ],
      "metadata": {
        "id": "saiCZ0hwj54B"
      }
    },
    {
      "cell_type": "code",
      "source": [
        "# Hyperparameters\n",
        "param_grid_pca = dict(n_neighbors=k_range)\n",
        "  \n",
        "# defining parameter range\n",
        "grid_knn_pca= RandomizedSearchCV(knn, param_grid_pca, scoring='roc_auc', return_train_score=False,verbose=1, random_state=42)\n",
        "  \n",
        "# fitting the model for grid search\n",
        "grid_knn_pca.fit(x_pca_extr, y_train)\n",
        "\n",
        "# print best parameter after tuning\n",
        "print(grid_knn_pca.best_params_)\n",
        " \n",
        "# print how our model looks after hyper-parameter tuning\n",
        "print(grid_knn_pca.best_estimator_)\n",
        "\n",
        "accuracy_pca = grid_knn_pca.best_score_ *100\n",
        "print(\"Accuracy for our training dataset with tuning is : {:.2f}%\".format(accuracy_pca))"
      ],
      "metadata": {
        "id": "arfaMS76j-WF",
        "colab": {
          "base_uri": "https://localhost:8080/"
        },
        "outputId": "81143ced-8ce4-46e0-f653-0462fdb86469"
      },
      "execution_count": 34,
      "outputs": [
        {
          "output_type": "stream",
          "name": "stdout",
          "text": [
            "Fitting 5 folds for each of 10 candidates, totalling 50 fits\n",
            "{'n_neighbors': 35}\n",
            "KNeighborsClassifier(n_neighbors=35)\n",
            "Accuracy for our training dataset with tuning is : 73.76%\n"
          ]
        }
      ]
    },
    {
      "cell_type": "code",
      "source": [
        "model_pca_knn = KNeighborsClassifier(n_neighbors=25)\n",
        "\n",
        "kfold = RepeatedStratifiedKFold(n_splits=10, random_state=42)\n",
        "cv_results_pca_knn_auc = cross_val_score(model_pca_knn, x_pca_extr, y_train, cv=kfold, scoring='roc_auc')\n",
        "cv_results_pca_knn_a = cross_val_score(model_pca_knn, x_pca_extr, y_train, cv=kfold, scoring='accuracy')\n",
        "cv_results_pca_knn_r = cross_val_score(model_pca_knn, x_pca_extr, y_train, cv=kfold, scoring='recall')\n",
        "\n",
        "\n",
        "print(f'PCA KNN (roc_auc) : %f(%f)'  % (cv_results_pca_knn_auc.mean(), cv_results_pca_knn_auc.std()))\n",
        "print(f'PCA KNN (accuracy)) : %f(%f)'  % (cv_results_pca_knn_a.mean(), cv_results_pca_knn_a.std()))\n",
        "print(f'PCA KNN (recall)) : %f(%f)'  % (cv_results_pca_knn_r.mean(), cv_results_pca_knn_r.std()))"
      ],
      "metadata": {
        "id": "UhmJiBBEj_f6",
        "colab": {
          "base_uri": "https://localhost:8080/"
        },
        "outputId": "c5878da0-4b3d-4c3b-fee3-0143b15300dc"
      },
      "execution_count": 35,
      "outputs": [
        {
          "output_type": "stream",
          "name": "stdout",
          "text": [
            "PCA KNN (roc_auc) : 0.728500(0.152971)\n",
            "PCA KNN (accuracy)) : 0.652222(0.112935)\n",
            "PCA KNN (recall)) : 0.469000(0.226250)\n"
          ]
        }
      ]
    },
    {
      "cell_type": "code",
      "source": [
        "results_roc_auc = [cv_results_lasso_poly_auc, cv_results_lasso_rbf_auc, cv_results_lasso_knn_auc, cv_results_anova_poly_auc, \n",
        "           cv_results_anova_rbf_auc, cv_results_anova_knn_auc, cv_results_t_rbf_auc, cv_results_t_knn_auc, cv_results_pca_knn_auc]\n",
        "plt.boxplot(results_roc_auc)\n",
        "plt.title('Algorithm Comparison: ROC AUC score')\n",
        "plt.xlabel('Model (number)')\n",
        "plt.ylabel('ROC AUC')\n",
        "plt.show()"
      ],
      "metadata": {
        "colab": {
          "base_uri": "https://localhost:8080/",
          "height": 404
        },
        "id": "vtq5Sf8jZYDY",
        "outputId": "60db9e3a-8c2d-4353-cac1-44078e23895f"
      },
      "execution_count": 36,
      "outputs": [
        {
          "output_type": "display_data",
          "data": {
            "text/plain": [
              "<Figure size 864x432 with 1 Axes>"
            ],
            "image/png": "[encoded data removed]"
          },
          "metadata": {
            "needs_background": "light"
          }
        }
      ]
    },
    {
      "cell_type": "markdown",
      "source": [
        "# Final evaluation with test set\n"
      ],
      "metadata": {
        "id": "lD6A0u_GTz8k"
      }
    },
    {
      "cell_type": "code",
      "source": [
        "# Conclusion LASSO + SVC polynomial method works best on the train data \n",
        "x_test_scaled = robust_scaler.transform(x_test)\n",
        "\n",
        "x_test_lasso = selector.transform(x_test_scaled)\n",
        "\n",
        "predict = model_lasso_poly.predict(x_test_lasso)\n",
        "print(f' ROC AUC on test set = {roc_auc_score(y_test, predict)}')\n",
        "print(f' Recall on test set = {recall_score(y_test, predict)}')\n",
        "print(f' Accuracy on test set = {accuracy_score(y_test, predict)}')"
      ],
      "metadata": {
        "id": "zOPr07V1T99z",
        "colab": {
          "base_uri": "https://localhost:8080/"
        },
        "outputId": "dd7e1760-4234-4694-cc6e-4559114aef5b"
      },
      "execution_count": 37,
      "outputs": [
        {
          "output_type": "stream",
          "name": "stdout",
          "text": [
            " ROC AUC on test set = 0.787878787878788\n",
            " Recall on test set = 0.9090909090909091\n",
            " Accuracy on test set = 0.782608695652174\n"
          ]
        }
      ]
    }
  ],
  "metadata": {
    "colab": {
      "collapsed_sections": [],
      "name": "Master_File_Assignment.ipynb",
      "provenance": []
    },
    "kernelspec": {
      "display_name": "Python 3",
      "language": "python",
      "name": "python3"
    },
    "language_info": {
      "codemirror_mode": {
        "name": "ipython",
        "version": 3
      },
      "file_extension": ".py",
      "mimetype": "text/x-python",
      "name": "python",
      "nbconvert_exporter": "python",
      "pygments_lexer": "ipython3",
      "version": "3.9.5"
    }
  },
  "nbformat": 4,
  "nbformat_minor": 0
}